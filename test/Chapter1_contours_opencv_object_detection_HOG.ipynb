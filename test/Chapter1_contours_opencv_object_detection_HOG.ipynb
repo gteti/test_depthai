{
 "cells": [
  {
   "cell_type": "code",
   "execution_count": 2,
   "metadata": {},
   "outputs": [
    {
     "name": "stdout",
     "output_type": "stream",
     "text": [
      "Using matplotlib backend: <object object at 0x000002020E5F4DB0>\n"
     ]
    }
   ],
   "source": [
    "from __future__ import print_function\n",
    "import cv2\n",
    "import numpy as np\n",
    "import matplotlib.pyplot as plt\n",
    "import random as rng\n",
    "%matplotlib"
   ]
  },
  {
   "cell_type": "code",
   "execution_count": 3,
   "metadata": {},
   "outputs": [
    {
     "data": {
      "text/plain": [
       "(300, 300, 3)"
      ]
     },
     "execution_count": 3,
     "metadata": {},
     "output_type": "execute_result"
    }
   ],
   "source": [
    "img = cv2.imread('capture_15.JPG')\n",
    "img.shape"
   ]
  },
  {
   "cell_type": "code",
   "execution_count": 4,
   "metadata": {},
   "outputs": [],
   "source": [
    "threshold = 150\n",
    "canny_output = cv2.Canny(img, threshold, threshold * 2)\n",
    "contours, hierarchy = cv2.findContours(canny_output, cv2.RETR_EXTERNAL, cv2.CHAIN_APPROX_SIMPLE)"
   ]
  },
  {
   "cell_type": "code",
   "execution_count": 5,
   "metadata": {},
   "outputs": [
    {
     "name": "stdout",
     "output_type": "stream",
     "text": [
      "44\n"
     ]
    }
   ],
   "source": [
    "print(len(contours))"
   ]
  },
  {
   "cell_type": "code",
   "execution_count": 6,
   "metadata": {},
   "outputs": [
    {
     "name": "stdout",
     "output_type": "stream",
     "text": [
      "1 (82.70882352941176, 116.03235294117647, 111.70294117647059, 0.0)\n",
      "2 (14.860677083333332, 20.73263888888889, 20.66796875, 0.0)\n",
      "3 (71.56095679012346, 103.9429012345679, 112.99768518518518, 0.0)\n"
     ]
    },
    {
     "data": {
      "text/plain": [
       "True"
      ]
     },
     "execution_count": 6,
     "metadata": {},
     "output_type": "execute_result"
    }
   ],
   "source": [
    "count=0\n",
    "font = cv2.FONT_HERSHEY_SIMPLEX\n",
    "for c in contours:\n",
    "    x,y,w,h = cv2.boundingRect(c)\n",
    "    if (w >20 and h >20):\n",
    "        count = count+1\n",
    "        ROI = img[y+int(h/4):y+int(3*h/4), x+int(h/4):x+int(3*h/4)]\n",
    "        ROI_meancolor = cv2.mean(ROI)\n",
    "        print(count,ROI_meancolor)\n",
    "        if (ROI_meancolor[0] > 30 and ROI_meancolor[0] < 40 and ROI_meancolor[1] > 70 and ROI_meancolor[1] < 105 \n",
    "            and ROI_meancolor[2] > 150 and ROI_meancolor[2] < 200):\n",
    "                cv2.putText(img, 'bottle', (x-2, y-2), font, 0.8, (255,255,255), 2, cv2.LINE_AA)\n",
    "                cv2.rectangle(img,(x,y),(x+w,y+h),(255,255,255),3)\n",
    "                #cv2.imshow('Contours', img)\n",
    "        else:\n",
    "                cv2.putText(img, 'bottle', (x-2, y-2), font, 0.8, (0,0,255), 2, cv2.LINE_AA)\n",
    "                cv2.rectangle(img,(x,y),(x+w,y+h),(0,0,255),3)\n",
    "                #cv2.imshow('Contours', img)\n",
    "\n",
    "cv2.imwrite('test_output.jpg', img)"
   ]
  },
  {
   "cell_type": "code",
   "execution_count": 7,
   "metadata": {},
   "outputs": [
    {
     "name": "stderr",
     "output_type": "stream",
     "text": [
      "C:\\Anaconda\\envs\\opencvenv\\lib\\site-packages\\skimage\\_shared\\utils.py:338: FutureWarning: `multichannel` is a deprecated argument name for `hog`. It will be removed in version 1.0.Please use `channel_axis` instead.\n",
      "  return func(*args, **kwargs)\n"
     ]
    }
   ],
   "source": [
    "from skimage.feature import hog\n",
    "from skimage import data, exposure\n",
    "fruit, hog_image = hog(img, orientations=8, pixels_per_cell=(16, 16),\n",
    "                    cells_per_block=(1, 1), visualize=True, multichannel=True)\n",
    "hog_image_rescaled = exposure.rescale_intensity(hog_image, in_range=(0, 10))\n",
    "cv2.imshow('HOG_image', hog_image_rescaled)"
   ]
  },
  {
   "cell_type": "code",
   "execution_count": null,
   "metadata": {},
   "outputs": [],
   "source": []
  },
  {
   "cell_type": "code",
   "execution_count": null,
   "metadata": {},
   "outputs": [],
   "source": []
  }
 ],
 "metadata": {
  "kernelspec": {
   "display_name": "Python 3",
   "language": "python",
   "name": "python3"
  },
  "language_info": {
   "codemirror_mode": {
    "name": "ipython",
    "version": 3
   },
   "file_extension": ".py",
   "mimetype": "text/x-python",
   "name": "python",
   "nbconvert_exporter": "python",
   "pygments_lexer": "ipython3",
   "version": "3.8.12"
  }
 },
 "nbformat": 4,
 "nbformat_minor": 2
}
